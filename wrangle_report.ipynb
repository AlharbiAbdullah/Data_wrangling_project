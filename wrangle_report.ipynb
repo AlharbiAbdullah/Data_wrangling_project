{
 "cells": [
  {
   "cell_type": "markdown",
   "metadata": {},
   "source": [
    "# WeRateDogs wrangling report."
   ]
  },
  {
   "cell_type": "markdown",
   "metadata": {},
   "source": [
    "### Introduction: \n",
    "In this project my goal is to gather, assess and clean the data from the famous twitter account “WeRateDogs”. WeRateDogs is a famous twitter account known for rating dogs from 10. Most of the time their rating goes above 10. After cleaning the data, I will provide some insights and visualizations. \n",
    "\n",
    "### Gathering: \n",
    "The data gathered from three different sources: \n",
    "-\tEnhanced twitter archive file provided by Udacity. \n",
    "-\tI could not use Twitter API, so Udacity provided us with the needed files.\n",
    "-\tTweet image predictions file downloaded programmatically using request library.\n",
    "\n",
    "### Assessing: \n",
    "After the data was gathered, I preformed the assessment methods both visually and programmatically. \n",
    "I came up with 8 qualty issues and 3 tidiness issues in the data. \n",
    "\n",
    "### Quality:\n",
    "\n",
    "- Incorrect datatype on tweet_ID.\n",
    "- Missing images on expanded_urls.\n",
    "- Remove retweets. \n",
    "- Replace None values with NaN on names and dog stages. \n",
    "- Change the source text to readable source. \n",
    "- Incorrect datatype on timestampe.\n",
    "- Some ratings are incorrect. \n",
    "- Incorrect dogs names.\n",
    "- rename ID on tweet_json. \n",
    "\n",
    "### Tidiness:\n",
    "\n",
    "- Data spread on three tables. We can join them into one table since they share the same tweet_id. \n",
    "- Drop unnecessary columns. \n",
    "- Melt Dog stages must be one column instead of (doggo, floofer, pupper, and puppo) columns. \n",
    "\n",
    "Storage: \n",
    "I have saved the master data as CVS\n",
    "\n",
    "\n",
    "\n",
    "\n"
   ]
  },
  {
   "cell_type": "code",
   "execution_count": null,
   "metadata": {},
   "outputs": [],
   "source": []
  }
 ],
 "metadata": {
  "kernelspec": {
   "display_name": "Python 3",
   "language": "python",
   "name": "python3"
  },
  "language_info": {
   "codemirror_mode": {
    "name": "ipython",
    "version": 3
   },
   "file_extension": ".py",
   "mimetype": "text/x-python",
   "name": "python",
   "nbconvert_exporter": "python",
   "pygments_lexer": "ipython3",
   "version": "3.8.3"
  }
 },
 "nbformat": 4,
 "nbformat_minor": 4
}
